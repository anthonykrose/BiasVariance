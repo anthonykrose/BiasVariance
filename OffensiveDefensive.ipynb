{
 "metadata": {
  "name": ""
 },
 "nbformat": 3,
 "nbformat_minor": 0,
 "worksheets": [
  {
   "cells": [
    {
     "cell_type": "heading",
     "level": 1,
     "metadata": {},
     "source": [
      "Offensive and defensive team ratings for the Premier League 2014-2015"
     ]
    },
    {
     "cell_type": "markdown",
     "metadata": {},
     "source": [
      "Following the [previous post](http://biasvariance.blogspot.com/2015/07/premier-league-2014-15-season-rankings.html), in which I used a simple Markov chain model to attempt to rank the teams in the Premier League based on the results of the games in the 2014-2015 season, today I'll attempt to use the same data to rank the teams based on both offense and defence. \n",
      "\n",
      "This approach follows the 'Offence-Defence' rating method described in [Who's \\#1](http://press.princeton.edu/titles/9661.html) by Langville and Meyer.\n",
      "\n",
      "This method begins like the Markov Chain did - I start by importing a few things we're going to use and set up our empty dataframe to contain the information about goals scored & conceeded:\n"
     ]
    },
    {
     "cell_type": "code",
     "collapsed": false,
     "input": [
      "import numpy as np\n",
      "import pandas as pd\n",
      "import csv\n",
      "import random\n",
      "import operator\n",
      "\n",
      "scores = np.zeros((20,20,))\n",
      "teams = ['Aston Villa','Arsenal','Burnley','Chelsea','Crystal Palace','Everton',\n",
      "         'Hull City','Leicester City','Liverpool','Manchester City','Manchester United',\n",
      "         'Newcastle','Southampton','Stoke City','Sunderland','Swansea','Tottenham',\n",
      "         'West Ham', 'West Brom','Queens Park Rangers']\n",
      "\n",
      "df = pd.DataFrame(scores, index=teams, columns=teams)"
     ],
     "language": "python",
     "metadata": {},
     "outputs": [],
     "prompt_number": 1
    },
    {
     "cell_type": "markdown",
     "metadata": {},
     "source": [
      "'df' holds a 20x20 grid, with each row and column labelled with a team name, to explain what this means lets look at the upper left corner quickly:"
     ]
    },
    {
     "cell_type": "code",
     "collapsed": false,
     "input": [
      "print df.loc['Aston Villa':'Chelsea','Aston Villa':'Chelsea']"
     ],
     "language": "python",
     "metadata": {},
     "outputs": [
      {
       "output_type": "stream",
       "stream": "stdout",
       "text": [
        "             Aston Villa  Arsenal  Burnley  Chelsea\n",
        "Aston Villa            0        0        0        0\n",
        "Arsenal                0        0        0        0\n",
        "Burnley                0        0        0        0\n",
        "Chelsea                0        0        0        0\n"
       ]
      }
     ],
     "prompt_number": 2
    },
    {
     "cell_type": "markdown",
     "metadata": {},
     "source": [
      "Exactly like last time around, we fill this grid with the number of goals the row team conceeds to the column team. So, once filled, the first row of the table will contain the number of goals that Aston Villa conceeded when playing every other team in the league. This will be the combined total of the home and away games.\n",
      "\n",
      "The data is stored in a tab delimited file (data.txt), in the format 'date, home_team, away_team, home_goals, away_goals' ie:\n",
      "\n",
      "May 24th 2015\tCrystal Palace\tSwansea\t1\t0 <br /> \n",
      "May 24th 2015\tArsenal\tWest Brom\t4\t1 <br /> \n",
      "May 24th 2015\tAston Villa\tBurnley\t0\t1 <br /> \n",
      "\n",
      "and so on...\n",
      "\n",
      "We can read this file and populate our data frame with the results of all 380 games:"
     ]
    },
    {
     "cell_type": "code",
     "collapsed": false,
     "input": [
      "with open('data.txt','r') as f:\n",
      "    reader=csv.reader(f,delimiter='\\t')\n",
      "    for date,home_team,away_team,home_goals,away_goals in reader:\n",
      "        \n",
      "        df[home_team][away_team] += int(home_goals)\n",
      "        df[away_team][home_team] += int(away_goals)"
     ],
     "language": "python",
     "metadata": {},
     "outputs": [],
     "prompt_number": 3
    },
    {
     "cell_type": "markdown",
     "metadata": {},
     "source": [
      "Let us look now at what we have in df:"
     ]
    },
    {
     "cell_type": "code",
     "collapsed": false,
     "input": [
      "print df.loc['Aston Villa':'Chelsea','Aston Villa':'Chelsea']"
     ],
     "language": "python",
     "metadata": {},
     "outputs": [
      {
       "output_type": "stream",
       "stream": "stdout",
       "text": [
        "             Aston Villa  Arsenal  Burnley  Chelsea\n",
        "Aston Villa            0        8        2        5\n",
        "Arsenal                0        0        0        2\n",
        "Burnley                1        4        0        4\n",
        "Chelsea                1        0        2        0\n"
       ]
      }
     ],
     "prompt_number": 4
    },
    {
     "cell_type": "markdown",
     "metadata": {},
     "source": [
      "It is useful to check this is correct at this stage - Aston Villa lost 3-0 to Arsenal (at home) on September 20th and 5-0 away on February 1st - our grid shows that they conceeded 8 in total - good.\n",
      "\n",
      "Here is where this approach diverges from the Markov chain. The basic idea here is to construct two ratings for each team - one to quantify their offensive strength and the other for their defensive strength.\n",
      "\n",
      "The offensive rating for team j is defined as:\n",
      "\n",
      "o<sub>j</sub> = a<sub>1j</sub>/d<sub>1</sub> + a<sub>2j</sub>/d<sub>2</sub> + ... + a<sub>mj</sub>/d<sub>m</sub>\n",
      "\n",
      "Where d<sub>i</sub> is the defensive rating for team i and m is the total number of teams (in our case, 20).\n",
      "\n",
      "Similarly, the offensive rating for team i is defined as:\n",
      "\n",
      "d<sub>i</sub> = a<sub>i1</sub>/o<sub>1</sub> + a<sub>i2</sub>/o<sub>2</sub> + ... + a<sub>jm</sub>/o<sub>m</sub>\n",
      "\n",
      "You can think about these ratings and play around with the numbers if you want to develop some intuition for how this works, but essentially the point is that a large offensive rating represents a strong offence but a large defensive rating represents a weak defence. This approach will mean that racking up lots of goals agains teams with a weak defence won't boost your attacking rating as much as scoring a lot against a team with a stronger defence. Equally, keeping a clean sheet against a strong attacking side would be a bigger boost to a team's defensive rating than keeping a blunt attack at bay.\n",
      "\n",
      "We'll now attempt to calculate these values for each of the PL teams, using the scores from the 2014-2015 games.\n",
      "\n",
      "To begin with, lets initialize the vectors that we'll use to hold the output:\n"
     ]
    },
    {
     "cell_type": "code",
     "collapsed": false,
     "input": [
      "offensive_rating = np.zeros(20)\n",
      "defensive_rating = np.ones(20)\n",
      "\n",
      "offensive_rating_prev = np.zeros(20)\n",
      "defensive_rating_prev = np.zeros(20)\n"
     ],
     "language": "python",
     "metadata": {},
     "outputs": [],
     "prompt_number": 5
    },
    {
     "cell_type": "markdown",
     "metadata": {},
     "source": [
      "The next block of code is where we perform our calculations. Given how we have defined our offensive and defensive ratings (see those equations above), we know they are not independent and therefore it is not possible to calculate one without the other. The approach to calculate these is therefore to start with some arbitrary values for one and iterate back and forward, each time feeding the previous result into the next round of calculation. \n",
      "\n",
      "We begin by assigining '1' as every team's defensive rating and use this to calculate the offensive ratings. The new offensive rating is used to recalculate the defensive ratings and so on. We stop when the calculations converge (using a tolerance of 0.001 to break our calculation):\n"
     ]
    },
    {
     "cell_type": "code",
     "collapsed": false,
     "input": [
      "counter = 0\n",
      "\n",
      "while True:\n",
      "    for i,team in enumerate(teams):\n",
      "        for index,score in enumerate(df[team]):\n",
      "            if (index == 0):\n",
      "                offensive_rating[i] = score/defensive_rating[index]\n",
      "            else:\n",
      "                offensive_rating[i] += score/defensive_rating[index]\n",
      "    \n",
      "    for i,team in enumerate(teams):\n",
      "        for index,score in enumerate(df.loc[team]):\n",
      "            if (index == 0):\n",
      "                defensive_rating[i] = score/offensive_rating[index]\n",
      "            else:\n",
      "                defensive_rating[i] += score/offensive_rating[index]\n",
      "\n",
      "    convergence = True\n",
      "\n",
      "    for i in range (0,20):\n",
      "        if abs(offensive_rating[i]-offensive_rating_prev[i]) > 0.001:\n",
      "            convergence = False\n",
      "        if abs(defensive_rating[i]-defensive_rating_prev[i]) > 0.001:\n",
      "            convergence = False            \n",
      "\n",
      "    if convergence == True:\n",
      "        break\n",
      "    \n",
      "    offensive_rating_prev[:] = offensive_rating\n",
      "    defensive_rating_prev[:] = defensive_rating\n",
      "    counter+=1\n",
      "\n",
      "print \"Convergence after \", counter, \" iterations:\""
     ],
     "language": "python",
     "metadata": {},
     "outputs": [
      {
       "output_type": "stream",
       "stream": "stdout",
       "text": [
        "Convergence after  4  iterations:\n"
       ]
      }
     ],
     "prompt_number": 6
    },
    {
     "cell_type": "markdown",
     "metadata": {},
     "source": [
      "The next step is simply to manipulate our results to attach each result to the corresponding team and sort them based on the values.\n",
      "\n",
      "In case anyone is interested I print the raw results, but a fully formated table can be found below if you don't want to pour through the individual ratings."
     ]
    },
    {
     "cell_type": "code",
     "collapsed": false,
     "input": [
      "offensive_list = []\n",
      "defensive_list = []\n",
      "\n",
      "for i,team in enumerate(teams):\n",
      "    o_rating = (team, offensive_rating[i])\n",
      "    offensive_list.append(o_rating)\n",
      "\n",
      "    d_rating = (team, defensive_rating[i])\n",
      "    defensive_list.append(d_rating)\n",
      "    \n",
      "offensive_list.sort(key=lambda x: x[1],reverse=True)\n",
      "defensive_list.sort(key=lambda x: x[1])\n",
      "\n",
      "for i in range (0,20):\n",
      "    print offensive_list[i]\n",
      "\n",
      "print \"\"\n",
      "\n",
      "for i in range (0,20):\n",
      "    print defensive_list[i]"
     ],
     "language": "python",
     "metadata": {},
     "outputs": [
      {
       "output_type": "stream",
       "stream": "stdout",
       "text": [
        "('Manchester City', 82.091087030339878)\n",
        "('Chelsea', 72.380560195215864)\n",
        "('Arsenal', 68.369009157329501)\n",
        "('Manchester United', 60.904492165093409)\n",
        "('Tottenham', 58.976640911527809)\n",
        "('Liverpool', 53.398207486422919)\n",
        "('Southampton', 51.706070092055349)\n",
        "('Stoke City', 48.628818782554838)\n",
        "('Everton', 47.487728530938085)\n",
        "('Crystal Palace', 47.094233000939916)\n",
        "('Swansea', 46.853158666512357)\n",
        "('Leicester City', 46.175596414755439)\n",
        "('West Ham', 43.761226383030348)\n",
        "('Queens Park Rangers', 41.905555496584974)\n",
        "('Newcastle', 40.487143739032931)\n",
        "('West Brom', 38.502623853058033)\n",
        "('Hull City', 33.003865242767439)\n",
        "('Sunderland', 31.811732993084007)\n",
        "('Aston Villa', 31.337140506696937)\n",
        "('Burnley', 27.760922296035552)\n",
        "\n",
        "('Southampton', 0.66995683304056308)\n",
        "('Chelsea', 0.71817845787502954)\n",
        "('Arsenal', 0.73744729935070585)\n",
        "('Manchester United', 0.79234033985536279)\n",
        "('Manchester City', 0.87012778428827653)\n",
        "('Swansea', 0.91836359596205652)\n",
        "('Liverpool', 0.92446442252052718)\n",
        "('West Ham', 0.9436212471431098)\n",
        "('Stoke City', 0.95157851238307645)\n",
        "('Hull City', 1.0337599874405823)\n",
        "('Everton', 1.0578813597729115)\n",
        "('West Brom', 1.0581547985668494)\n",
        "('Sunderland', 1.0736186324951256)\n",
        "('Tottenham', 1.0844423863874746)\n",
        "('Leicester City', 1.0957431365749941)\n",
        "('Burnley', 1.1047238318420249)\n",
        "('Aston Villa', 1.1107422557592943)\n",
        "('Crystal Palace', 1.1242000238088854)\n",
        "('Newcastle', 1.2686191064971544)\n",
        "('Queens Park Rangers', 1.4684429285267184)\n"
       ]
      }
     ],
     "prompt_number": 7
    },
    {
     "cell_type": "markdown",
     "metadata": {},
     "source": [
      "The full offensive and defensive tables are shown below. Manchester City come out on top for offensive rating but are down in 5th in the defensive table, whilst PL champions Chelsea come in 2nd in both. Southampton top the defensive table although they finished the PL in 7th place - this analysis suggests the problem was in attack and looking at the results it is pretty clearly their lack of goals when playing away is where this came from.\n",
      "\n",
      "At the other end of the table, these results QPR and Burnley had the weakest defence and attack in the league, respectively (pretty consistent with expectations). There aren't any huge revelations here but it is interesting to attempt to separate the teams in this way."
     ]
    },
    {
     "cell_type": "code",
     "collapsed": false,
     "input": [
      "template = \"{0:20}||{1:10}\" # column widths: 8, 10, 15, 7, 10\n",
      "print template.format(\"Offensive table\", \"Defensive table\")\n",
      "print template.format(\"---------------\", \"---------------\")\n",
      "\n",
      "for i in range (0,20):\n",
      "    print template.format(offensive_list[i][0], defensive_list[i][0])"
     ],
     "language": "python",
     "metadata": {},
     "outputs": [
      {
       "output_type": "stream",
       "stream": "stdout",
       "text": [
        "Offensive table     ||Defensive table\n",
        "---------------     ||---------------\n",
        "Manchester City     ||Southampton\n",
        "Chelsea             ||Chelsea   \n",
        "Arsenal             ||Arsenal   \n",
        "Manchester United   ||Manchester United\n",
        "Tottenham           ||Manchester City\n",
        "Liverpool           ||Swansea   \n",
        "Southampton         ||Liverpool \n",
        "Stoke City          ||West Ham  \n",
        "Everton             ||Stoke City\n",
        "Crystal Palace      ||Hull City \n",
        "Swansea             ||Everton   \n",
        "Leicester City      ||West Brom \n",
        "West Ham            ||Sunderland\n",
        "Queens Park Rangers ||Tottenham \n",
        "Newcastle           ||Leicester City\n",
        "West Brom           ||Burnley   \n",
        "Hull City           ||Aston Villa\n",
        "Sunderland          ||Crystal Palace\n",
        "Aston Villa         ||Newcastle \n",
        "Burnley             ||Queens Park Rangers\n"
       ]
      }
     ],
     "prompt_number": 8
    }
   ],
   "metadata": {}
  }
 ]
}