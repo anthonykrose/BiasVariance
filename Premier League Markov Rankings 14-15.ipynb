{
 "metadata": {
  "name": ""
 },
 "nbformat": 3,
 "nbformat_minor": 0,
 "worksheets": [
  {
   "cells": [
    {
     "cell_type": "heading",
     "level": 1,
     "metadata": {},
     "source": [
      "A Markov Chain ranking of Premier League teams (14/15 season)"
     ]
    },
    {
     "cell_type": "markdown",
     "metadata": {},
     "source": [
      "In this simple [Markov Chain](https://en.wikipedia.org/wiki/Markov_chain) model I use the number of goals scored in each game of the 14-15 season to rank the Premier League teams. \n",
      "\n",
      "A Markov Chain for this approach can be thought of as a graph with a node corresponding to each of the teams. The probability of transitioning between the node of team X and the node of team Y is related to the number of goals that Y scored against X. This can be thought of as each team 'voting' for how strong they consider each of the other teams in the league to be, where their votes are decided by the number of goals that they conceeded. A great visual introduction to Markov Chains can be found [here](http://setosa.io/blog/2014/07/26/markov-chains/)\n",
      "\n",
      "First I start by importing a few things we're going to use (including numpy and pandas), and setting up our empty dataframe to contain the information about goals scored & conceeded:"
     ]
    },
    {
     "cell_type": "code",
     "collapsed": false,
     "input": [
      "import numpy as np\n",
      "import pandas as pd\n",
      "import csv\n",
      "import random\n",
      "import operator\n",
      "\n",
      "scores = np.zeros((20,20,))\n",
      "teams = ['Aston Villa','Arsenal','Burnley','Chelsea','Crystal Palace','Everton',\n",
      "         'Hull City','Leicester City','Liverpool','Manchester City','Manchester United',\n",
      "         'Newcastle','Southampton','Stoke City','Sunderland','Swansea','Tottenham',\n",
      "         'West Ham', 'West Brom','Queens Park Rangers']\n",
      "\n",
      "df = pd.DataFrame(scores, index=teams, columns=teams)"
     ],
     "language": "python",
     "metadata": {},
     "outputs": [],
     "prompt_number": 171
    },
    {
     "cell_type": "markdown",
     "metadata": {},
     "source": [
      "'df' holds a 20x20 grid, with each row and column labelled with a team name, to explain what this means lets look at the upper left corner quickly:"
     ]
    },
    {
     "cell_type": "code",
     "collapsed": false,
     "input": [
      "print df.loc['Aston Villa':'Chelsea','Aston Villa':'Chelsea']"
     ],
     "language": "python",
     "metadata": {},
     "outputs": [
      {
       "output_type": "stream",
       "stream": "stdout",
       "text": [
        "             Aston Villa  Arsenal  Burnley  Chelsea\n",
        "Aston Villa            0        0        0        0\n",
        "Arsenal                0        0        0        0\n",
        "Burnley                0        0        0        0\n",
        "Chelsea                0        0        0        0\n"
       ]
      }
     ],
     "prompt_number": 172
    },
    {
     "cell_type": "markdown",
     "metadata": {},
     "source": [
      "We are going to fill this grid with the number of goals the row team conceeds to the column team. So, once filled, the first row of the table will contain the number of goals that Aston Villa conceeded when playing every other team in the league. This will be the combined total of the home and away games.\n",
      "\n",
      "The data is stored in a tab delimited file (data.txt), in the format 'date, home_team, away_team, home_goals, away_goals' ie:\n",
      "\n",
      "May 24th 2015\tCrystal Palace\tSwansea\t1\t0 <br /> \n",
      "May 24th 2015\tArsenal\tWest Brom\t4\t1 <br /> \n",
      "May 24th 2015\tAston Villa\tBurnley\t0\t1 <br /> \n",
      "\n",
      "and so on...\n",
      "\n",
      "We can read this file and populate our data frame with the results of all 380 games:"
     ]
    },
    {
     "cell_type": "code",
     "collapsed": false,
     "input": [
      "with open('data.txt','r') as f:\n",
      "    reader=csv.reader(f,delimiter='\\t')\n",
      "    for date,home_team,away_team,home_goals,away_goals in reader:\n",
      "        \n",
      "        df[home_team][away_team] += int(home_goals)\n",
      "        df[away_team][home_team] += int(away_goals)"
     ],
     "language": "python",
     "metadata": {},
     "outputs": [],
     "prompt_number": 173
    },
    {
     "cell_type": "markdown",
     "metadata": {},
     "source": [
      "Let us look now at what we have in df:"
     ]
    },
    {
     "cell_type": "code",
     "collapsed": false,
     "input": [
      "print df.loc['Aston Villa':'Chelsea','Aston Villa':'Chelsea']"
     ],
     "language": "python",
     "metadata": {},
     "outputs": [
      {
       "output_type": "stream",
       "stream": "stdout",
       "text": [
        "             Aston Villa  Arsenal  Burnley  Chelsea\n",
        "Aston Villa            0        8        2        5\n",
        "Arsenal                0        0        0        2\n",
        "Burnley                1        4        0        4\n",
        "Chelsea                1        0        2        0\n"
       ]
      }
     ],
     "prompt_number": 174
    },
    {
     "cell_type": "markdown",
     "metadata": {},
     "source": [
      "It is useful to check this is correct at this stage - Aston Villa lost 3-0 to Arsenal (at home) on September 20th and 5-0 away on February 1st - our grid shows that they conceeded 8 in total - good.\n",
      "\n",
      "Ok - the next thing we need to do is to normalise these numbers by the total number conceeded per row. This will represent the transition probability for our Markov model:"
     ]
    },
    {
     "cell_type": "code",
     "collapsed": false,
     "input": [
      "transition_matrix = df.div(df.sum(axis=1), axis=0)\n",
      "\n",
      "print transition_matrix.loc['Aston Villa':'Chelsea','Aston Villa':'Chelsea']"
     ],
     "language": "python",
     "metadata": {},
     "outputs": [
      {
       "output_type": "stream",
       "stream": "stdout",
       "text": [
        "             Aston Villa   Arsenal   Burnley   Chelsea\n",
        "Aston Villa     0.000000  0.140351  0.035088  0.087719\n",
        "Arsenal         0.000000  0.000000  0.000000  0.055556\n",
        "Burnley         0.018868  0.075472  0.000000  0.075472\n",
        "Chelsea         0.031250  0.000000  0.062500  0.000000\n"
       ]
      }
     ],
     "prompt_number": 175
    },
    {
     "cell_type": "markdown",
     "metadata": {},
     "source": [
      "What this transition_matrix represents is the probability of transitioning from each state to the next. For example - if the model is looking at Aston Villa, it has a probability of around 14% of jumping to Arsenal, 3.5% to Burnley, 8.8% to Chelsea and so on.\n",
      "\n",
      "I use the cumulative sum of the probabilities by row in order to separate the probabilities into 'bins' between 0 and 1. In this way we can use a single random number to see where the model jumps to next:"
     ]
    },
    {
     "cell_type": "code",
     "collapsed": false,
     "input": [
      "tsm = transition_matrix.cumsum(axis=1)\n",
      "print tsm.loc['Aston Villa':'Chelsea','Aston Villa':'Chelsea']"
     ],
     "language": "python",
     "metadata": {},
     "outputs": [
      {
       "output_type": "stream",
       "stream": "stdout",
       "text": [
        "             Aston Villa   Arsenal   Burnley   Chelsea\n",
        "Aston Villa     0.000000  0.140351  0.175439  0.263158\n",
        "Arsenal         0.000000  0.000000  0.000000  0.055556\n",
        "Burnley         0.018868  0.094340  0.094340  0.169811\n",
        "Chelsea         0.031250  0.031250  0.093750  0.093750\n"
       ]
      }
     ],
     "prompt_number": 176
    },
    {
     "cell_type": "markdown",
     "metadata": {},
     "source": [
      "Now we can throw our random number over and over and watch our model take a random walk of 100000 steps through the Markov graph. I keep count of how often it spends at each node, and this gives us our ranking for the performance of the teams:"
     ]
    },
    {
     "cell_type": "code",
     "collapsed": false,
     "input": [
      "random.seed(555)\n",
      "\n",
      "current_team = teams[(random.randint(0,19))]\n",
      "\n",
      "I = iter(teams)\n",
      "Z = np.zeros(20)\n",
      "count =  dict(zip(I,Z))\n",
      "\n",
      "for j in range (0,100000):\n",
      "    count[current_team] += 1\n",
      "    ran = random.random()\n",
      "    for i,val in enumerate(tsm.loc[current_team].values):\n",
      "        if ran < val:\n",
      "            current_team = teams[i]\n",
      "            break\n",
      "            \n",
      "sorted_x = sorted(count.items(), key=operator.itemgetter(1),reverse = True)"
     ],
     "language": "python",
     "metadata": {},
     "outputs": []
    },
    {
     "cell_type": "markdown",
     "metadata": {},
     "source": [
      "We now have our results, and can print the fraction of time that the model spent at each team's node:"
     ]
    },
    {
     "cell_type": "code",
     "collapsed": false,
     "input": [
      "for key, value in sorted_x:\n",
      "    print key, value/100000"
     ],
     "language": "python",
     "metadata": {},
     "outputs": [
      {
       "output_type": "stream",
       "stream": "stdout",
       "text": [
        "Manchester City 0.07987\n",
        "Chelsea 0.07322\n",
        "Arsenal 0.06655\n",
        "Manchester United 0.06383\n",
        "Tottenham 0.06027\n",
        "Liverpool 0.05785\n",
        "Stoke City 0.0511\n",
        "Swansea 0.05082\n",
        "Crystal Palace 0.05014\n",
        "Southampton 0.04904\n",
        "Everton 0.04885\n",
        "Leicester City 0.0481\n",
        "West Ham 0.04399\n",
        "Queens Park Rangers 0.04101\n",
        "Newcastle 0.04069\n",
        "West Brom 0.03995\n",
        "Hull City 0.0365\n",
        "Sunderland 0.03535\n",
        "Aston Villa 0.03212\n",
        "Burnley 0.03075\n"
       ]
      }
     ],
     "prompt_number": 179
    },
    {
     "cell_type": "markdown",
     "metadata": {},
     "source": [
      "We can contrast this with the actual final table of the Premier League and see how different things look:\n",
      "\n",
      "1\tChelsea<br /> \n",
      "2\tManchester City<br /> \n",
      "3\tArsenal<br /> \n",
      "4\tManchester United<br /> \n",
      "5\tTottenham<br /> \n",
      "6\tLiverpool<br /> \n",
      "7\tSouthampton<br /> \n",
      "8\tSwansea<br /> \n",
      "9\tStoke City<br /> \n",
      "10\tCrystal Palace<br /> \n",
      "11\tEverton<br /> \n",
      "12\tWest Ham<br /> \n",
      "13\tWest Brom<br /> \n",
      "14\tLeicester City<br /> \n",
      "15\tNewcastle<br /> \n",
      "16\tSunderland\t<br /> \n",
      "17\tAston Villa<br /> \n",
      "18\tHull City<br /> \n",
      "19\tBurnley<br /> \n",
      "20\tQueens Park Rangers<br /> \n"
     ]
    },
    {
     "cell_type": "markdown",
     "metadata": {},
     "source": [
      "So, in our Markov Chain league based only on the goals of the 2014-2015 season, Manchester City win, although it is reasonably close between the top two teams. Aston Villa and Sunderland end up being relegated, rather than Hull and QPR - with Hull only narrowly avoiding the drop. QPR finish a much improved 14th - perhaps due to a reasonable number of goals scored vs top 6 teams."
     ]
    }
   ],
   "metadata": {}
  }
 ]
}