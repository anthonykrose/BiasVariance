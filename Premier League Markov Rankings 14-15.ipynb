{
 "metadata": {
  "name": ""
 },
 "nbformat": 3,
 "nbformat_minor": 0,
 "worksheets": [
  {
   "cells": [
    {
     "cell_type": "code",
     "collapsed": false,
     "input": [
      "import numpy as np\n",
      "import pandas as pd\n",
      "import csv\n",
      "import random\n",
      "import operator\n",
      "\n",
      "#data = np.genfromtxt('data.txt')    \n",
      "\n",
      "scores = np.zeros((20,20,))\n",
      "teams = ['Aston Villa','Arsenal','Burnley','Chelsea','Crystal Palace','Everton','Hull City','Leicester City','Liverpool','Manchester City','Manchester United','Newcastle','Southampton','Stoke City','Sunderland','Swansea','Tottenham','West Ham','West Brom','Queens Park Rangers']\n",
      "\n",
      "df = pd.DataFrame(scores, index=teams, columns=teams)\n",
      "df\n",
      "\n",
      "df['Aston Villa']\n",
      "\n",
      "with open('data.txt','r') as f:\n",
      "    reader=csv.reader(f,delimiter='\\t')\n",
      "    for date,home_team,away_team,home_goals,away_goals in reader:\n",
      "        \n",
      "        df[home_team][away_team] += int(home_goals)\n",
      "        df[away_team][home_team] += int(away_goals)\n",
      "        \n",
      "\n",
      "\n",
      "transition_matrix = df.div(df.sum(axis=1), axis=0)\n",
      "#print df\n",
      "#print transition_matrix\n",
      "\n",
      "tsm = transition_matrix.cumsum(axis=1)\n",
      "\n",
      "random.seed(555)\n",
      "\n",
      "current_team = teams[(random.randint(0,19))]\n",
      "\n",
      "I = iter(teams)\n",
      "Z = np.zeros(20)\n",
      "count =  dict(zip(I,Z))\n",
      "\n",
      "for j in range (0,100000):\n",
      "    count[current_team] += 1\n",
      "    ran = random.random()\n",
      "    for i,val in enumerate(tsm.loc[current_team].values):\n",
      "        if ran < val:\n",
      "            current_team = teams[i]\n",
      "            break\n",
      "            \n",
      "sorted_x = sorted(count.items(), key=operator.itemgetter(1),reverse = True)\n",
      "\n",
      "for key, value in sorted_x:\n",
      "    print key, value\n"
     ],
     "language": "python",
     "metadata": {},
     "outputs": [
      {
       "output_type": "stream",
       "stream": "stdout",
       "text": [
        "Manchester City 7987.0\n",
        "Chelsea 7322.0\n",
        "Arsenal 6655.0\n",
        "Manchester United 6383.0\n",
        "Tottenham 6027.0\n",
        "Liverpool 5785.0\n",
        "Stoke City 5110.0\n",
        "Swansea 5082.0\n",
        "Crystal Palace 5014.0\n",
        "Southampton 4904.0\n",
        "Everton 4885.0\n",
        "Leicester City 4810.0\n",
        "West Ham 4399.0\n",
        "Queens Park Rangers 4101.0\n",
        "Newcastle 4069.0\n",
        "West Brom 3995.0\n",
        "Hull City 3650.0\n",
        "Sunderland 3535.0\n",
        "Aston Villa 3212.0\n",
        "Burnley 3075.0\n"
       ]
      }
     ],
     "prompt_number": 137
    }
   ],
   "metadata": {}
  }
 ]
}